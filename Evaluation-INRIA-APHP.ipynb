{
 "cells": [
  {
   "cell_type": "markdown",
   "metadata": {},
   "source": [
    "Evaluation pour le poste data scientist Inria-AP-HP"
   ]
  },
  {
   "cell_type": "code",
   "execution_count": 182,
   "metadata": {},
   "outputs": [],
   "source": [
    "#Importation des librairies néccesaire et connexion à la base de données SQLITE3 data.db\n",
    "\n",
    "import pandas as pd\n",
    "from sqlalchemy import create_engine\n",
    "import numpy as np\n",
    "from matplotlib import pyplot as plt \n",
    "%matplotlib inline\n",
    "\n",
    "engine = create_engine('sqlite:///C:\\\\Users\\\\Djonga\\\\Desktop\\\\DU BIG DATA\\\\Background\\\\Test\\\\data.db', echo=False)\n",
    "con = engine.connect()\n",
    "df_patient = pd.read_sql('select * from patient', con=con)\n",
    "df_pcr = pd.read_sql('select * from test', con=con)\n",
    "con.close()"
   ]
  },
  {
   "cell_type": "markdown",
   "metadata": {},
   "source": [
    "Pour vérifier que la connexion à la base de données a été faite correctement, on va afficher les cinq premières lignes des tables patients et de tests PCR.\n",
    "Nous affichons aussi la dimension (nombre des lignes et colonnes)"
   ]
  },
  {
   "cell_type": "code",
   "execution_count": 183,
   "metadata": {},
   "outputs": [
    {
     "data": {
      "text/html": [
       "<div>\n",
       "<table border=\"1\" class=\"dataframe\">\n",
       "  <thead>\n",
       "    <tr style=\"text-align: right;\">\n",
       "      <th></th>\n",
       "      <th>patient_id</th>\n",
       "      <th>given_name</th>\n",
       "      <th>surname</th>\n",
       "      <th>street_number</th>\n",
       "      <th>address_1</th>\n",
       "      <th>suburb</th>\n",
       "      <th>postcode</th>\n",
       "      <th>state</th>\n",
       "      <th>date_of_birth</th>\n",
       "      <th>age</th>\n",
       "      <th>phone_number</th>\n",
       "      <th>address_2</th>\n",
       "    </tr>\n",
       "  </thead>\n",
       "  <tbody>\n",
       "    <tr>\n",
       "      <th>0</th>\n",
       "      <td>221958</td>\n",
       "      <td>matisse</td>\n",
       "      <td>clarke</td>\n",
       "      <td>13.0</td>\n",
       "      <td>rene street</td>\n",
       "      <td>ellenbrook</td>\n",
       "      <td>2527</td>\n",
       "      <td>wa</td>\n",
       "      <td>19710708.0</td>\n",
       "      <td>32.0</td>\n",
       "      <td>08 86018809</td>\n",
       "      <td>westella</td>\n",
       "    </tr>\n",
       "    <tr>\n",
       "      <th>1</th>\n",
       "      <td>771155</td>\n",
       "      <td>joshua</td>\n",
       "      <td>elrick</td>\n",
       "      <td>23.0</td>\n",
       "      <td>andrea place</td>\n",
       "      <td>east preston</td>\n",
       "      <td>2074</td>\n",
       "      <td>nsw</td>\n",
       "      <td>19120921.0</td>\n",
       "      <td>34.0</td>\n",
       "      <td>02 97793152</td>\n",
       "      <td>foxdown</td>\n",
       "    </tr>\n",
       "    <tr>\n",
       "      <th>2</th>\n",
       "      <td>231932</td>\n",
       "      <td>alice</td>\n",
       "      <td>conboy</td>\n",
       "      <td>35.0</td>\n",
       "      <td>mountain circuit</td>\n",
       "      <td>prospect</td>\n",
       "      <td>2305</td>\n",
       "      <td>nsw</td>\n",
       "      <td>19810905.0</td>\n",
       "      <td>22.0</td>\n",
       "      <td>02 20403934</td>\n",
       "      <td>None</td>\n",
       "    </tr>\n",
       "    <tr>\n",
       "      <th>3</th>\n",
       "      <td>465838</td>\n",
       "      <td>sienna</td>\n",
       "      <td>craswell</td>\n",
       "      <td>39.0</td>\n",
       "      <td>cumberlegeicrescent</td>\n",
       "      <td>henty</td>\n",
       "      <td>3620</td>\n",
       "      <td>wa</td>\n",
       "      <td>19840809.0</td>\n",
       "      <td>30.0</td>\n",
       "      <td>02 62832318</td>\n",
       "      <td>jodane</td>\n",
       "    </tr>\n",
       "    <tr>\n",
       "      <th>4</th>\n",
       "      <td>359178</td>\n",
       "      <td>joshua</td>\n",
       "      <td>bastiaans</td>\n",
       "      <td>144.0</td>\n",
       "      <td>lowrie street</td>\n",
       "      <td>campbell town</td>\n",
       "      <td>4051</td>\n",
       "      <td>nsw</td>\n",
       "      <td>19340430.0</td>\n",
       "      <td>31.0</td>\n",
       "      <td>03 69359594</td>\n",
       "      <td>None</td>\n",
       "    </tr>\n",
       "  </tbody>\n",
       "</table>\n",
       "</div>"
      ],
      "text/plain": [
       "   patient_id given_name    surname  street_number            address_1  \\\n",
       "0      221958    matisse     clarke           13.0          rene street   \n",
       "1      771155     joshua     elrick           23.0         andrea place   \n",
       "2      231932      alice     conboy           35.0     mountain circuit   \n",
       "3      465838     sienna   craswell           39.0  cumberlegeicrescent   \n",
       "4      359178     joshua  bastiaans          144.0        lowrie street   \n",
       "\n",
       "          suburb postcode state  date_of_birth   age phone_number address_2  \n",
       "0     ellenbrook     2527    wa     19710708.0  32.0  08 86018809  westella  \n",
       "1   east preston     2074   nsw     19120921.0  34.0  02 97793152   foxdown  \n",
       "2       prospect     2305   nsw     19810905.0  22.0  02 20403934      None  \n",
       "3          henty     3620    wa     19840809.0  30.0  02 62832318    jodane  \n",
       "4  campbell town     4051   nsw     19340430.0  31.0  03 69359594      None  "
      ]
     },
     "execution_count": 183,
     "metadata": {},
     "output_type": "execute_result"
    }
   ],
   "source": [
    "df_patient.head()"
   ]
  },
  {
   "cell_type": "code",
   "execution_count": 184,
   "metadata": {},
   "outputs": [
    {
     "data": {
      "text/plain": [
       "(20000, 12)"
      ]
     },
     "execution_count": 184,
     "metadata": {},
     "output_type": "execute_result"
    }
   ],
   "source": [
    "df_patient.shape"
   ]
  },
  {
   "cell_type": "code",
   "execution_count": 185,
   "metadata": {},
   "outputs": [
    {
     "data": {
      "text/html": [
       "<div>\n",
       "<table border=\"1\" class=\"dataframe\">\n",
       "  <thead>\n",
       "    <tr style=\"text-align: right;\">\n",
       "      <th></th>\n",
       "      <th>patient_id</th>\n",
       "      <th>pcr</th>\n",
       "    </tr>\n",
       "  </thead>\n",
       "  <tbody>\n",
       "    <tr>\n",
       "      <th>0</th>\n",
       "      <td>653091</td>\n",
       "      <td>N</td>\n",
       "    </tr>\n",
       "    <tr>\n",
       "      <th>1</th>\n",
       "      <td>347667</td>\n",
       "      <td>Negative</td>\n",
       "    </tr>\n",
       "    <tr>\n",
       "      <th>2</th>\n",
       "      <td>708481</td>\n",
       "      <td>Positive</td>\n",
       "    </tr>\n",
       "    <tr>\n",
       "      <th>3</th>\n",
       "      <td>148825</td>\n",
       "      <td>Negative</td>\n",
       "    </tr>\n",
       "    <tr>\n",
       "      <th>4</th>\n",
       "      <td>150081</td>\n",
       "      <td>Negative</td>\n",
       "    </tr>\n",
       "  </tbody>\n",
       "</table>\n",
       "</div>"
      ],
      "text/plain": [
       "   patient_id       pcr\n",
       "0      653091         N\n",
       "1      347667  Negative\n",
       "2      708481  Positive\n",
       "3      148825  Negative\n",
       "4      150081  Negative"
      ]
     },
     "execution_count": 185,
     "metadata": {},
     "output_type": "execute_result"
    }
   ],
   "source": [
    "df_pcr.head()"
   ]
  },
  {
   "cell_type": "code",
   "execution_count": 186,
   "metadata": {},
   "outputs": [
    {
     "data": {
      "text/plain": [
       "(8800, 2)"
      ]
     },
     "execution_count": 186,
     "metadata": {},
     "output_type": "execute_result"
    }
   ],
   "source": [
    "df_pcr.shape"
   ]
  },
  {
   "cell_type": "markdown",
   "metadata": {},
   "source": [
    "Pour réaliser le diagnostic sur la qualité de données, on compte le nombre des valeurs manquantes, uniques et doublons  à l'aide des tris à plats sur les colonnes qualitatives ou en calculant la moyenne, le maximum et le minimum pour les colonnes quantitaves. \n",
    "\n",
    "Concretèment pour les tables de la base data.db, les dimensions et facteurs de la qualités de données suivantes peuvent être examinées: \n",
    "\n",
    "1. La complétude: les facteurs données manques et doublons. Comme les doublons sur la colonne patient_id dans la table test pour identifier les patiens qui ont été testés plusieurs fois. Si nous avons la colonne pcr manquante, alors on manque le resultat du test pour un patient donné;\n",
    "\n",
    "2. Exactitude: les facteurs format et précision. La variable pcr dans la table est codé en “Negative” et “N” pour le test dont le resultat est negatif. Il y a aussi la variable de type date “date_of_birth” que pandas lit comme réel;\n",
    "\n",
    "3. Confidentialité: La jointure entre ces deux tables viole la RGPD. Les patients sont identifiables avec leur résultat médical respectif, ce qui est contraire au principe de la protection de données à caractères personnelles. Un dossier médical est privé et confidentiel, il faut penser à l'anonymisation ou à la pseudonymisation."
   ]
  },
  {
   "cell_type": "code",
   "execution_count": 187,
   "metadata": {},
   "outputs": [],
   "source": [
    "#Fonction to delete duplicated from patient table\n",
    "\n",
    "def detect_duplicates(myData):\n",
    "    \n",
    "    # We found duplicates based on the column patient_id \n",
    "    #The pandas's function duplicated return  a boolean series with True if the row is a duplicated. \n",
    "    \n",
    "    percentDuplicated = round(myData[myData.duplicated(['patient_id'])].shape[0]/myData.shape[0],4) * 100\n",
    "    print(\"Percent of duplicated rows based on the column patient_id:\", percentDuplicated ,\"%\")\n",
    "    \n",
    "    #Delete duplicated rows\n",
    "    duplicate_patient = myData[myData.duplicated(['patient_id']) == False]\n",
    "  \n",
    "    return duplicate_patient"
   ]
  },
  {
   "cell_type": "code",
   "execution_count": 188,
   "metadata": {},
   "outputs": [
    {
     "name": "stdout",
     "output_type": "stream",
     "text": [
      "Percent of duplicated rows based on the column patient_id: 1.01 %\n"
     ]
    }
   ],
   "source": [
    "noDuplicatePatient =  detect_duplicates(df_patient)"
   ]
  },
  {
   "cell_type": "markdown",
   "metadata": {},
   "source": [
    "Nous allons faire l'analyse exploiratoire sur les 8800 patients atteints du Covid-19, donc on commence par faire une jointure à gauche pour ajouter dans la table test pcr (df_pcr) les données des patients se trouvant dans la table des patients (df_patient)."
   ]
  },
  {
   "cell_type": "code",
   "execution_count": 189,
   "metadata": {},
   "outputs": [
    {
     "data": {
      "text/html": [
       "<div>\n",
       "<table border=\"1\" class=\"dataframe\">\n",
       "  <thead>\n",
       "    <tr style=\"text-align: right;\">\n",
       "      <th></th>\n",
       "      <th>patient_id</th>\n",
       "      <th>pcr</th>\n",
       "      <th>given_name</th>\n",
       "      <th>surname</th>\n",
       "      <th>street_number</th>\n",
       "      <th>address_1</th>\n",
       "      <th>suburb</th>\n",
       "      <th>postcode</th>\n",
       "      <th>state</th>\n",
       "      <th>date_of_birth</th>\n",
       "      <th>age</th>\n",
       "      <th>phone_number</th>\n",
       "      <th>address_2</th>\n",
       "    </tr>\n",
       "  </thead>\n",
       "  <tbody>\n",
       "    <tr>\n",
       "      <th>0</th>\n",
       "      <td>653091</td>\n",
       "      <td>N</td>\n",
       "      <td>daniel</td>\n",
       "      <td>campbell</td>\n",
       "      <td>58.0</td>\n",
       "      <td>sid barnes crescent</td>\n",
       "      <td>north ward</td>\n",
       "      <td>4514</td>\n",
       "      <td>nsw</td>\n",
       "      <td>19730426.0</td>\n",
       "      <td>NaN</td>\n",
       "      <td>08 38772117</td>\n",
       "      <td>None</td>\n",
       "    </tr>\n",
       "    <tr>\n",
       "      <th>1</th>\n",
       "      <td>347667</td>\n",
       "      <td>Negative</td>\n",
       "      <td>sebastian</td>\n",
       "      <td>mchenry</td>\n",
       "      <td>12.0</td>\n",
       "      <td>mundawari circuit</td>\n",
       "      <td>swan view</td>\n",
       "      <td>4551</td>\n",
       "      <td>wa</td>\n",
       "      <td>19900316.0</td>\n",
       "      <td>28.0</td>\n",
       "      <td>08 61083524</td>\n",
       "      <td>ocean star villas</td>\n",
       "    </tr>\n",
       "    <tr>\n",
       "      <th>2</th>\n",
       "      <td>708481</td>\n",
       "      <td>Positive</td>\n",
       "      <td>sarah</td>\n",
       "      <td>rellos</td>\n",
       "      <td>20.0</td>\n",
       "      <td>torres street</td>\n",
       "      <td>bribie island</td>\n",
       "      <td>3199</td>\n",
       "      <td>sa</td>\n",
       "      <td>19430317.0</td>\n",
       "      <td>NaN</td>\n",
       "      <td>02 73197286</td>\n",
       "      <td>None</td>\n",
       "    </tr>\n",
       "    <tr>\n",
       "      <th>3</th>\n",
       "      <td>148825</td>\n",
       "      <td>Negative</td>\n",
       "      <td>chloe</td>\n",
       "      <td>brammy</td>\n",
       "      <td>238.0</td>\n",
       "      <td>fitchett street</td>\n",
       "      <td>carnegie</td>\n",
       "      <td>3280</td>\n",
       "      <td>qld</td>\n",
       "      <td>19540528.0</td>\n",
       "      <td>19.0</td>\n",
       "      <td>02 48826642</td>\n",
       "      <td>None</td>\n",
       "    </tr>\n",
       "    <tr>\n",
       "      <th>4</th>\n",
       "      <td>150081</td>\n",
       "      <td>Negative</td>\n",
       "      <td>charlie</td>\n",
       "      <td>None</td>\n",
       "      <td>6.0</td>\n",
       "      <td>clark close</td>\n",
       "      <td>south melbourne</td>\n",
       "      <td>2602</td>\n",
       "      <td>qld</td>\n",
       "      <td>19750331.0</td>\n",
       "      <td>35.0</td>\n",
       "      <td>03 24096098</td>\n",
       "      <td>talawa</td>\n",
       "    </tr>\n",
       "  </tbody>\n",
       "</table>\n",
       "</div>"
      ],
      "text/plain": [
       "   patient_id       pcr given_name   surname  street_number  \\\n",
       "0      653091         N     daniel  campbell           58.0   \n",
       "1      347667  Negative  sebastian   mchenry           12.0   \n",
       "2      708481  Positive      sarah    rellos           20.0   \n",
       "3      148825  Negative      chloe    brammy          238.0   \n",
       "4      150081  Negative    charlie      None            6.0   \n",
       "\n",
       "             address_1           suburb postcode state  date_of_birth   age  \\\n",
       "0  sid barnes crescent       north ward     4514   nsw     19730426.0   NaN   \n",
       "1    mundawari circuit        swan view     4551    wa     19900316.0  28.0   \n",
       "2        torres street    bribie island     3199    sa     19430317.0   NaN   \n",
       "3      fitchett street         carnegie     3280   qld     19540528.0  19.0   \n",
       "4          clark close  south melbourne     2602   qld     19750331.0  35.0   \n",
       "\n",
       "  phone_number          address_2  \n",
       "0  08 38772117               None  \n",
       "1  08 61083524  ocean star villas  \n",
       "2  02 73197286               None  \n",
       "3  02 48826642               None  \n",
       "4  03 24096098             talawa  "
      ]
     },
     "execution_count": 189,
     "metadata": {},
     "output_type": "execute_result"
    }
   ],
   "source": [
    "df_pcr = df_pcr.merge(noDuplicatePatient, on='patient_id', how='left')\n",
    "df_pcr.head()"
   ]
  },
  {
   "cell_type": "code",
   "execution_count": 190,
   "metadata": {},
   "outputs": [
    {
     "data": {
      "text/plain": [
       "(8800, 13)"
      ]
     },
     "execution_count": 190,
     "metadata": {},
     "output_type": "execute_result"
    }
   ],
   "source": [
    "df_pcr.shape"
   ]
  },
  {
   "cell_type": "markdown",
   "metadata": {},
   "source": [
    "Le tris à plat sur la colonne pcr montre un problème de formatage ou saisie de données. Nous avons 'N' et 'Negative', 'P' et 'Positive'."
   ]
  },
  {
   "cell_type": "code",
   "execution_count": 191,
   "metadata": {},
   "outputs": [
    {
     "data": {
      "text/plain": [
       "N           3482\n",
       "Negative    3134\n",
       "Positive    1283\n",
       "P            901\n",
       "Name: pcr, dtype: int64"
      ]
     },
     "execution_count": 191,
     "metadata": {},
     "output_type": "execute_result"
    }
   ],
   "source": [
    "df_pcr['pcr'].value_counts(dropna = False)"
   ]
  },
  {
   "cell_type": "markdown",
   "metadata": {},
   "source": [
    "Correction de la colonne 'pcr'. On recode \"N\" en \"negative\" et \"P\" en positive."
   ]
  },
  {
   "cell_type": "code",
   "execution_count": 193,
   "metadata": {},
   "outputs": [
    {
     "data": {
      "text/plain": [
       "Negative    6616\n",
       "Positive    2184\n",
       "Name: pcr, dtype: int64"
      ]
     },
     "execution_count": 193,
     "metadata": {},
     "output_type": "execute_result"
    }
   ],
   "source": [
    "clean_pcr = {\"pcr\": {\"N\": \"Negative\", \"P\": \"Positive\"}}\n",
    "df_pcr.replace(clean_pcr, inplace = True)\n",
    "df_pcr['pcr'].value_counts()"
   ]
  },
  {
   "cell_type": "markdown",
   "metadata": {},
   "source": [
    "Pour faire une analyse exploratoire sur l'âge des personnes atteintes de la covid-19, on étudie d'abord la distribution de la variable 'age' avant de procéder au recodage en catégorie."
   ]
  },
  {
   "cell_type": "code",
   "execution_count": 194,
   "metadata": {},
   "outputs": [
    {
     "data": {
      "image/png": "[encoded data removed]",
      "text/plain": [
       "<matplotlib.figure.Figure at 0x145d3a81eb8>"
      ]
     },
     "metadata": {},
     "output_type": "display_data"
    }
   ],
   "source": [
    "distr = df_pcr['age'].value_counts(dropna = False, sort = True)\n",
    "plt.rcParams[\"figure.figsize\"] = (20,4)\n",
    "distr.plot(kind='bar')\n",
    "plt.show()\n"
   ]
  },
  {
   "cell_type": "code",
   "execution_count": 195,
   "metadata": {},
   "outputs": [
    {
     "data": {
      "text/plain": [
       "NaN      1749\n",
       " 31.0     458\n",
       " 28.0     450\n",
       " 29.0     447\n",
       " 30.0     446\n",
       " 32.0     429\n",
       " 27.0     424\n",
       " 33.0     390\n",
       " 26.0     359\n",
       " 25.0     335\n",
       " 34.0     313\n",
       " 24.0     284\n",
       " 35.0     266\n",
       " 23.0     259\n",
       " 22.0     229\n",
       " 36.0     206\n",
       " 37.0     189\n",
       " 21.0     181\n",
       " 20.0     161\n",
       " 38.0     126\n",
       " 19.0     121\n",
       " 11.0     119\n",
       " 9.0      111\n",
       " 12.0     110\n",
       " 10.0     100\n",
       " 39.0      97\n",
       " 13.0      94\n",
       " 8.0       76\n",
       " 40.0      69\n",
       " 41.0      59\n",
       " 7.0       49\n",
       " 42.0      26\n",
       " 43.0      19\n",
       " 6.0       10\n",
       " 44.0       7\n",
       " 45.0       6\n",
       " 4.0        5\n",
       " 2.0        3\n",
       " 14.0       2\n",
       " 92.0       2\n",
       " 15.0       2\n",
       " 46.0       1\n",
       " 50.0       1\n",
       " 83.0       1\n",
       " 47.0       1\n",
       " 74.0       1\n",
       " 52.0       1\n",
       " 64.0       1\n",
       " 91.0       1\n",
       " 82.0       1\n",
       " 0.0        1\n",
       " 1.0        1\n",
       " 17.0       1\n",
       "Name: age, dtype: int64"
      ]
     },
     "execution_count": 195,
     "metadata": {},
     "output_type": "execute_result"
    }
   ],
   "source": [
    "distr"
   ]
  },
  {
   "cell_type": "markdown",
   "metadata": {},
   "source": [
    "Pour connaitre la tranche d'age la plus testée à la covid-19, on commence par faire le codage en tranche d'âge pour la variable 'age'.\n",
    "On constate une grande présence des données manquantes. Il ya aussi la présence des nourrisons qui ont été testés à la Covid-19 et les jeunes agés jusqu'à 30 sont la tranche la plus testée.\n"
   ]
  },
  {
   "cell_type": "code",
   "execution_count": 196,
   "metadata": {},
   "outputs": [
    {
     "data": {
      "text/plain": [
       "21-30    3414\n",
       "31-40    2543\n",
       "NaN      1750\n",
       "10-20     710\n",
       "10-       255\n",
       "40+       128\n",
       "Name: catAge, dtype: int64"
      ]
     },
     "execution_count": 196,
     "metadata": {},
     "output_type": "execute_result"
    }
   ],
   "source": [
    "bins = [0, 9, 20, 30, 40, np.inf]\n",
    "names = ['10-', '10-20', '21-30', '31-40', '40+']\n",
    "df_pcr['catAge'] = pd.cut(df_pcr['age'], bins, labels=names)\n",
    "df_pcr['catAge'].value_counts(dropna = False, sort = True)"
   ]
  },
  {
   "cell_type": "markdown",
   "metadata": {},
   "source": [
    "Répartition de cas des covid-19 par tranche d'age et localisation géographique.\n",
    "\n",
    "Il est inquiétant de remarquer le nombre des cas positifs parmis les moins de 10 ans . Les jeunes entre 21 ans et 30 sont aussi pas mal atteints à la covid-19. Il y a eu très peu des seniors testés, d'où ce petit chiffre des positifs au covid-19.\n"
   ]
  },
  {
   "cell_type": "code",
   "execution_count": 197,
   "metadata": {},
   "outputs": [],
   "source": [
    "#This function take a column's name, counts the number of positive, negative and the graph for vizualization\n",
    "def crossGraph(col):\n",
    "    \n",
    "    print(\"Répartiton des cas des Covid-19 par: \", col)\n",
    "    #cross analysis\n",
    "    tab = pd.crosstab(df_pcr[col], df_pcr['pcr'], dropna = True)\n",
    "    print(tab)\n",
    "    #printing the graph\n",
    "    tab.plot.bar(stacked=False)\n",
    "    plt.show()"
   ]
  },
  {
   "cell_type": "code",
   "execution_count": 200,
   "metadata": {},
   "outputs": [
    {
     "name": "stdout",
     "output_type": "stream",
     "text": [
      "Répartiton des cas des Covid-19 par:  catAge\n",
      "pcr     Negative  Positive\n",
      "catAge                    \n",
      "10-          186        69\n",
      "10-20        529       181\n",
      "21-30       2573       841\n",
      "31-40       1907       636\n",
      "40+          101        27\n"
     ]
    },
    {
     "data": {
      "image/png": "[encoded data removed]",
      "text/plain": [
       "<matplotlib.figure.Figure at 0x145d38fefd0>"
      ]
     },
     "metadata": {},
     "output_type": "display_data"
    },
    {
     "name": "stdout",
     "output_type": "stream",
     "text": [
      "Répartiton des cas des Covid-19 par:  state\n",
      "pcr    Negative  Positive\n",
      "state                    \n",
      "act          88        30\n",
      "ai            1         0\n",
      "fsw           1         0\n",
      "gic           1         0\n",
      "ic            0         1\n",
      "naw           1         0\n",
      "ndw           1         0\n",
      "nfsw          1         0\n",
      "nfw           0         1\n",
      "nlw           1         0\n",
      "ns            2         0\n",
      "nsa           1         0\n",
      "nsc           0         1\n",
      "nsd           1         1\n",
      "nse           2         0\n",
      "nsg           1         0\n",
      "nsn           1         0\n",
      "nsq           1         1\n",
      "nss           1         4\n",
      "nsw        1967       634\n",
      "nswb          0         1\n",
      "nswf          1         0\n",
      "nswt          0         1\n",
      "nsy           1         0\n",
      "nt           46         5\n",
      "nu            2         0\n",
      "nvq           0         1\n",
      "nwx           0         1\n",
      "nxw           0         1\n",
      "qdd           1         0\n",
      "...         ...       ...\n",
      "qud           1         0\n",
      "qxlj          1         0\n",
      "s             0         1\n",
      "sa          472       134\n",
      "sv            1         0\n",
      "tad           1         0\n",
      "tak           1         0\n",
      "tas         173        60\n",
      "taz           1         0\n",
      "vc            1         0\n",
      "vcci          1         0\n",
      "vh            0         1\n",
      "vib           1         0\n",
      "vic        1433       514\n",
      "vicf          1         0\n",
      "vich          2         0\n",
      "vicm          1         0\n",
      "vicz          1         0\n",
      "vid           2         0\n",
      "vie           1         0\n",
      "vil           1         0\n",
      "viv           1         0\n",
      "vix           1         0\n",
      "vq            1         0\n",
      "vuv           1         0\n",
      "wa          543       185\n",
      "waw           0         1\n",
      "wr            1         0\n",
      "ws            2         3\n",
      "wz            1         0\n",
      "\n",
      "[68 rows x 2 columns]\n"
     ]
    },
    {
     "data": {
      "image/png": "[encoded data removed]",
      "text/plain": [
       "<matplotlib.figure.Figure at 0x145c96d6908>"
      ]
     },
     "metadata": {},
     "output_type": "display_data"
    }
   ],
   "source": [
    "colNames = ['catAge', 'state']\n",
    "for elt in colNames:\n",
    "    crossGraph(elt)"
   ]
  },
  {
   "cell_type": "code",
   "execution_count": null,
   "metadata": {
    "collapsed": true
   },
   "outputs": [],
   "source": []
  }
 ],
 "metadata": {
  "kernelspec": {
   "display_name": "Python 3",
   "language": "python",
   "name": "python3"
  },
  "language_info": {
   "codemirror_mode": {
    "name": "ipython",
    "version": 3
   },
   "file_extension": ".py",
   "mimetype": "text/x-python",
   "name": "python",
   "nbconvert_exporter": "python",
   "pygments_lexer": "ipython3",
   "version": "3.5.2"
  }
 },
 "nbformat": 4,
 "nbformat_minor": 1
}
